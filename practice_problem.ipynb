{
  "nbformat": 4,
  "nbformat_minor": 0,
  "metadata": {
    "colab": {
      "name": "Tutorial",
      "provenance": [],
      "collapsed_sections": [],
      "toc_visible": true
    },
    "kernelspec": {
      "name": "python_defaultSpec_1597147806280",
      "display_name": "Python 3.7.7 64-bit ('0813_dialogue_system': conda)"
    }
  },
  "cells": [
    {
      "cell_type": "markdown",
      "metadata": {},
      "source": [
        "# 대화시스템 실습 문제 : ConvLab 프레임워크를 이용한 대화시스템 모델 평가 및 모델 선택\n",
        "\n",
        "아래 코드에서는 이 실습문제에서 필요한 패키지를 import하고 helper function을 정의합니다."
      ]
    },
    {
      "cell_type": "code",
      "execution_count": null,
      "metadata": {
        "tags": []
      },
      "outputs": [],
      "source": [
        "!python -m spacy download en_core_web_sm"
      ]
    },
    {
      "cell_type": "code",
      "metadata": {
        "id": "OqzFlmCBCXEV",
        "colab_type": "code",
        "colab": {},
        "tags": []
      },
      "source": [
        "from convlab2.nlu.jointBERT.multiwoz import BERTNLU\n",
        "from convlab2.nlu.milu.multiwoz import MILU\n",
        "from convlab2.dst.rule.multiwoz import RuleDST\n",
        "from convlab2.policy.rule.multiwoz import RulePolicy\n",
        "from convlab2.nlg.template.multiwoz import TemplateNLG\n",
        "from convlab2.dialog_agent import BiSession, PipelineAgent\n",
        "from convlab2.evaluator.multiwoz_eval import MultiWozEvaluator\n",
        "from pprint import pprint\n",
        "import random\n",
        "import numpy as np\n",
        "import torch\n",
        "import spacy\n",
        "spacy.load('en_core_web_sm')\n",
        "\n",
        "import logging \n",
        "mpl_logger = logging.getLogger('matplotlib') \n",
        "mpl_logger.setLevel(logging.WARNING) \n",
        "cntp_logger = logging.getLogger('urllib3.connectionpool')\n",
        "cntp_logger.setLevel(logging.WARNING)\n",
        "ttu_logger = logging.getLogger('transformers.tokenization_utils')\n",
        "ttu_logger.setLevel(logging.WARNING)\n",
        "tcu_logger = logging.getLogger('transformers.configuration_utils')\n",
        "tcu_logger.setLevel(logging.WARNING)\n",
        "tmu_logger = logging.getLogger('transformers.modeling_utils')\n",
        "tmu_logger.setLevel(logging.WARNING)\n",
        "logging.getLogger().setLevel(logging.INFO)\n",
        "import warnings\n",
        "warnings.filterwarnings(\"ignore\")\n",
        "\n",
        "def set_seed(r_seed):\n",
        "    random.seed(r_seed)\n",
        "    np.random.seed(r_seed)\n",
        "    torch.manual_seed(r_seed)\n"
      ],
      "execution_count": null,
      "outputs": []
    },
    {
      "cell_type": "markdown",
      "metadata": {
        "id": "CKOQs1l8LpTR",
        "colab_type": "text"
      },
      "source": [
        "\n",
        "## ConvLab 에서 지원하는 모델들 load\n",
        "\n",
        "이용가능한 model들:\n",
        "\n",
        "- NLU: BERTNLU, MILU, SVMNLU\n",
        "- DST: RuleDST\n",
        "- Word-DST: SUMBT, TRADE (set `sys_nlu` to `None`)\n",
        "- Policy: RulePolicy, Imitation, REINFORCE, PPO, GDPL\n",
        "- Word-Policy: MDRG, HDSA, LaRL (set `sys_nlg` to `None`)\n",
        "- NLG: Template, SCLSTM\n",
        "- End2End: Sequicity, DAMD, RNN_rollout (directly used as `sys_agent`)\n",
        "- Simulator policy: Agenda, VHUS (for `user_policy`)\n"
      ]
    },
    {
      "cell_type": "markdown",
      "metadata": {},
      "source": [
        "아래 코드는 실습시간 때 사용했던 Step 3 코드들의 일부입니다."
      ]
    },
    {
      "cell_type": "code",
      "metadata": {
        "id": "G-9G0VYUNYOI",
        "colab_type": "code",
        "colab": {},
        "tags": []
      },
      "source": [
        "# available NLU models\n",
        "from convlab2.nlu.svm.multiwoz import SVMNLU\n",
        "from convlab2.nlu.jointBERT.multiwoz import BERTNLU\n",
        "from convlab2.nlu.milu.multiwoz import MILU\n",
        "# available DST models\n",
        "from convlab2.dst.rule.multiwoz import RuleDST\n",
        "#from convlab2.dst.mdbt.multiwoz import MDBT\n",
        "from convlab2.dst.sumbt.multiwoz import SUMBT\n",
        "from convlab2.dst.trade.multiwoz import TRADE\n",
        "# available Policy models\n",
        "from convlab2.policy.rule.multiwoz import RulePolicy\n",
        "from convlab2.policy.ppo.multiwoz import PPOPolicy\n",
        "from convlab2.policy.pg.multiwoz import PGPolicy\n",
        "from convlab2.policy.mle.multiwoz import MLEPolicy\n",
        "from convlab2.policy.gdpl.multiwoz import GDPLPolicy\n",
        "from convlab2.policy.mdrg.multiwoz import MDRGWordPolicy\n",
        "from convlab2.policy.hdsa.multiwoz import HDSA\n",
        "from convlab2.policy.larl.multiwoz import LaRL\n",
        "# available NLG models\n",
        "from convlab2.nlg.template.multiwoz import TemplateNLG\n",
        "from convlab2.nlg.sclstm.multiwoz import SCLSTM\n",
        "# available E2E models\n",
        "from convlab2.e2e.sequicity.multiwoz import Sequicity\n",
        "from convlab2.e2e.damd.multiwoz import Damd"
      ],
      "execution_count": null,
      "outputs": []
    },
    {
      "cell_type": "markdown",
      "metadata": {
        "id": "6TS2_Tp1Nzvq",
        "colab_type": "text"
      },
      "source": [
        "\n",
        "Word-DST 모델들은 NLU와 DST가 합쳐진 모델을 의미합니다. 따라서, 별도의 NLU 모델 없이 사용할 수 있습니다.\n",
        "\n",
        "따라서, (1) NLU+RuleDST 또는 (2) Word-DST 로 조합이 가능합니다.\n",
        "\n",
        "[주의!] Word-DST 의 경우 sys_nlu = None 이어야 합니다.\n",
        "\n",
        "Word-Policy 모델들은 Dialogue Policy 와 NLG 가 합쳐진 모델을 의미합니다. 따라서 별도의 NLG 모델없이 사용할 수 있습니다.\n",
        "\n",
        "따라서, (1) Policy+NLG 또는 Word-Policy 로 조합이 가능합니다.\n",
        "\n",
        "[주의!] Word-Policy 의 경우 sys_nlg = None 이어야 합니다.\n"
      ]
    },
    {
      "cell_type": "markdown",
      "metadata": {},
      "source": [
        "아래 코드는 system module들의 예시입니다."
      ]
    },
    {
      "cell_type": "code",
      "metadata": {
        "id": "DZMk9wAlONrz",
        "colab_type": "code",
        "colab": {},
        "tags": [
          "outputPrepend"
        ]
      },
      "source": [
        "# NLU+RuleDST:\n",
        "sys_nlu = MILU()\n",
        "# sys_nlu = SVMNLU()\n",
        "# sys_nlu = BERTNLU()\n",
        "sys_dst = RuleDST()\n",
        "\n",
        "# or Word-DST:\n",
        "# sys_nlu = None\n",
        "# sys_dst = SUMBT()\n",
        "# sys_dst = TRADE()\n",
        "#### (not working!) sys_dst = MDBT()\n",
        "\n",
        "# [Caution] In Word-DST case, sys_nlu must be \"None\"\n",
        "\n",
        "# Policy+NLG:\n",
        "sys_policy = RulePolicy()\n",
        "# sys_policy = PPOPolicy()\n",
        "# sys_policy = PGPolicy()\n",
        "# sys_policy = MLEPolicy()\n",
        "# sys_policy = GDPLPolicy()\n",
        "sys_nlg = TemplateNLG(is_user=False)\n",
        "#sys_nlg = SCLSTM(is_user=False)\n",
        "\n",
        "# or Word-Policy:\n",
        "# sys_policy = LaRL()\n",
        "# sys_policy = HDSA()\n",
        "# sys_policy = MDRGWordPolicy()\n",
        "# sys_nlg = None\n",
        "\n",
        "# [Caution] \"In Word-policy case, sys_nlg must be None\"\n",
        "\n",
        "sys_agent = PipelineAgent(sys_nlu, sys_dst, sys_policy, sys_nlg, 'sys')\n",
        "\n",
        "## End-to-End model\n",
        "# sys_agent = Sequicity()\n",
        "# sys_agent = Damd()\n"
      ],
      "execution_count": null,
      "outputs": []
    },
    {
      "cell_type": "markdown",
      "metadata": {},
      "source": [
        "아래 코드에는 user simulator가 정의되어 있습니다."
      ]
    },
    {
      "cell_type": "code",
      "metadata": {
        "id": "UkHpjvR5QezN",
        "colab_type": "code",
        "colab": {},
        "tags": []
      },
      "source": [
        "user_nlu = BERTNLU()\n",
        "# user_nlu = MILU()\n",
        "# user_nlu = SVMNLU()\n",
        "user_dst = None\n",
        "user_policy = RulePolicy(character='usr')\n",
        "# user_policy = UserPolicyVHUS(load_from_zip=True)\n",
        "user_nlg = TemplateNLG(is_user=True)\n",
        "# user_nlg = SCLSTM(is_user=True)\n",
        "user_agent = PipelineAgent(user_nlu, user_dst, user_policy, user_nlg, name='user')"
      ],
      "execution_count": null,
      "outputs": []
    },
    {
      "cell_type": "markdown",
      "metadata": {},
      "source": [
        "아래 코드에는 analyzer 가 정의 되어 있습니다."
      ]
    },
    {
      "cell_type": "code",
      "metadata": {
        "id": "Hu2q3lQiSMDy",
        "colab_type": "code",
        "colab": {},
        "tags": []
      },
      "source": [
        "from convlab2.util.analysis_tool.analyzer import Analyzer\n",
        "\n",
        "# if sys_nlu!=None, set use_nlu=True to collect more information\n",
        "analyzer = Analyzer(user_agent=user_agent, dataset='multiwoz')\n",
        "\n",
        "set_seed(20200131)\n",
        "analyzer.comprehensive_analyze(sys_agent=sys_agent, model_name='sys_agent', total_dialog=20)"
      ],
      "execution_count": null,
      "outputs": []
    },
    {
      "cell_type": "markdown",
      "metadata": {},
      "source": [
        "## \\[실습문제] Success Rate를 기준으로 상위 3가지 모델을 찾고, 아래 표를 완성하세요.\n",
        "\n",
        "\\[힌트] 여러개의 system agent를 만들고 아래의 코드를 활용해 한번에 돌리실 수 있습니다.\n",
        "\n",
        "\\[주의] 실습과제 제출시 실행기록을 반드시 남겨서 제출해야 합니다.\n",
        "\n",
        "\n",
        "Rank      | NLU       | DST       | Policy    | NLG          | Success rate | Book rate | Inform P | Inform R | Inform F1 | Turn(succ/all) |\n",
        "--------- | --------- | --------- | --------- | :----------: | :----------: | --------- | -------- | --------- | -------- | -------------- |\n",
        "1         | -         | -         | -         | -            | -            | -         | -        | -         | -        | -              |\n",
        "2         | -         | -         | -         | -            | -            | -         | -        | -         | -        | -              |\n",
        "3         | -         | -         | -         | -            | -            | -         | -        | -         | -        | -              |"
      ]
    },
    {
      "cell_type": "code",
      "metadata": {
        "id": "GKe_DNJUlWzh",
        "colab_type": "code",
        "colab": {},
        "tags": [
          "outputPrepend"
        ]
      },
      "source": [
        "# define your own system agent1\n",
        "# sys_agent1 = PipelineAgent(...)\n",
        "\n",
        "# define your own system agent2\n",
        "# sys_agent2 = PipelineAgent(...)\n",
        "\n",
        "# define your own system agent3\n",
        "# sys_agent3 = PipelineAgent(...)\n",
        "\n",
        "# [Hint] You can append sys_agent model as much as you want!!\n",
        "# analyzer.compare_models(agent_list=[sys_agent1, sys_agent2, sys_agent3], model_name=['sys_agent1', 'sys_agent2', 'sys_agent3'], total_dialog=20)"
      ],
      "execution_count": null,
      "outputs": []
    },
    {
      "cell_type": "markdown",
      "metadata": {},
      "source": []
    }
  ]
}