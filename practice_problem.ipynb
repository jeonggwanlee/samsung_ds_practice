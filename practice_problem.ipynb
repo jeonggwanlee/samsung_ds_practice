{
  "nbformat": 4,
  "nbformat_minor": 0,
  "metadata": {
    "colab": {
      "name": "Tutorial",
      "provenance": [],
      "collapsed_sections": [],
      "toc_visible": true
    },
    "kernelspec": {
      "name": "python_defaultSpec_1597147524425",
      "display_name": "Python 3.7.7 64-bit ('0813_dialogue_system': conda)"
    }
  },
  "cells": [
    {
      "cell_type": "markdown",
      "metadata": {},
      "source": [
        "# 대화시스템 실습 문제 : ConvLab 프레임워크를 이용한 대화시스템 모델 평가 및 모델 선택\n",
        "\n",
        "아래 코드에서는 이 실습문제에서 필요한 패키지를 import하고 helper function을 정의합니다."
      ]
    },
    {
      "cell_type": "code",
      "execution_count": 4,
      "metadata": {
        "tags": []
      },
      "outputs": [
        {
          "output_type": "stream",
          "name": "stdout",
          "text": "Requirement already satisfied: en_core_web_sm==2.1.0 from https://github.com/explosion/spacy-models/releases/download/en_core_web_sm-2.1.0/en_core_web_sm-2.1.0.tar.gz#egg=en_core_web_sm==2.1.0 in /home/syseo/anaconda3/envs/0813_dialogue_system/lib/python3.7/site-packages (2.1.0)\n\u001b[38;5;2m✔ Download and installation successful\u001b[0m\nYou can now load the model via spacy.load('en_core_web_sm')\n"
        }
      ],
      "source": [
        "!python -m spacy download en_core_web_sm"
      ]
    },
    {
      "cell_type": "code",
      "metadata": {
        "id": "OqzFlmCBCXEV",
        "colab_type": "code",
        "colab": {},
        "tags": []
      },
      "source": [
        "from convlab2.nlu.jointBERT.multiwoz import BERTNLU\n",
        "from convlab2.nlu.milu.multiwoz import MILU\n",
        "from convlab2.dst.rule.multiwoz import RuleDST\n",
        "from convlab2.policy.rule.multiwoz import RulePolicy\n",
        "from convlab2.nlg.template.multiwoz import TemplateNLG\n",
        "from convlab2.dialog_agent import BiSession, PipelineAgent\n",
        "from convlab2.evaluator.multiwoz_eval import MultiWozEvaluator\n",
        "from pprint import pprint\n",
        "import random\n",
        "import numpy as np\n",
        "import torch\n",
        "import spacy\n",
        "spacy.load('en_core_web_sm')\n",
        "\n",
        "import logging \n",
        "mpl_logger = logging.getLogger('matplotlib') \n",
        "mpl_logger.setLevel(logging.WARNING) \n",
        "cntp_logger = logging.getLogger('urllib3.connectionpool')\n",
        "cntp_logger.setLevel(logging.WARNING)\n",
        "ttu_logger = logging.getLogger('transformers.tokenization_utils')\n",
        "ttu_logger.setLevel(logging.WARNING)\n",
        "tcu_logger = logging.getLogger('transformers.configuration_utils')\n",
        "tcu_logger.setLevel(logging.WARNING)\n",
        "tmu_logger = logging.getLogger('transformers.modeling_utils')\n",
        "tmu_logger.setLevel(logging.WARNING)\n",
        "logging.getLogger().setLevel(logging.INFO)\n",
        "import warnings\n",
        "warnings.filterwarnings(\"ignore\")\n",
        "\n",
        "def set_seed(r_seed):\n",
        "    random.seed(r_seed)\n",
        "    np.random.seed(r_seed)\n",
        "    torch.manual_seed(r_seed)\n"
      ],
      "execution_count": 6,
      "outputs": []
    },
    {
      "cell_type": "markdown",
      "metadata": {
        "id": "CKOQs1l8LpTR",
        "colab_type": "text"
      },
      "source": [
        "\n",
        "## ConvLab 에서 지원하는 모델들 load\n",
        "\n",
        "이용가능한 model들:\n",
        "\n",
        "- NLU: BERTNLU, MILU, SVMNLU\n",
        "- DST: RuleDST\n",
        "- Word-DST: SUMBT, TRADE (set `sys_nlu` to `None`)\n",
        "- Policy: RulePolicy, Imitation, REINFORCE, PPO, GDPL\n",
        "- Word-Policy: MDRG, HDSA, LaRL (set `sys_nlg` to `None`)\n",
        "- NLG: Template, SCLSTM\n",
        "- End2End: Sequicity, DAMD, RNN_rollout (directly used as `sys_agent`)\n",
        "- Simulator policy: Agenda, VHUS (for `user_policy`)\n"
      ]
    },
    {
      "cell_type": "markdown",
      "metadata": {},
      "source": [
        "아래 코드는 실습시간 때 사용했던 Step 3 코드들의 일부입니다."
      ]
    },
    {
      "cell_type": "code",
      "metadata": {
        "id": "G-9G0VYUNYOI",
        "colab_type": "code",
        "colab": {},
        "tags": []
      },
      "source": [
        "# available NLU models\n",
        "from convlab2.nlu.svm.multiwoz import SVMNLU\n",
        "from convlab2.nlu.jointBERT.multiwoz import BERTNLU\n",
        "from convlab2.nlu.milu.multiwoz import MILU\n",
        "# available DST models\n",
        "from convlab2.dst.rule.multiwoz import RuleDST\n",
        "#from convlab2.dst.mdbt.multiwoz import MDBT\n",
        "from convlab2.dst.sumbt.multiwoz import SUMBT\n",
        "from convlab2.dst.trade.multiwoz import TRADE\n",
        "# available Policy models\n",
        "from convlab2.policy.rule.multiwoz import RulePolicy\n",
        "from convlab2.policy.ppo.multiwoz import PPOPolicy\n",
        "from convlab2.policy.pg.multiwoz import PGPolicy\n",
        "from convlab2.policy.mle.multiwoz import MLEPolicy\n",
        "from convlab2.policy.gdpl.multiwoz import GDPLPolicy\n",
        "from convlab2.policy.mdrg.multiwoz import MDRGWordPolicy\n",
        "from convlab2.policy.hdsa.multiwoz import HDSA\n",
        "from convlab2.policy.larl.multiwoz import LaRL\n",
        "# available NLG models\n",
        "from convlab2.nlg.template.multiwoz import TemplateNLG\n",
        "from convlab2.nlg.sclstm.multiwoz import SCLSTM\n",
        "# available E2E models\n",
        "from convlab2.e2e.sequicity.multiwoz import Sequicity\n",
        "from convlab2.e2e.damd.multiwoz import Damd"
      ],
      "execution_count": 7,
      "outputs": []
    },
    {
      "cell_type": "markdown",
      "metadata": {
        "id": "6TS2_Tp1Nzvq",
        "colab_type": "text"
      },
      "source": [
        "\n",
        "Word-DST 모델들은 NLU와 DST가 합쳐진 모델을 의미합니다. 따라서, 별도의 NLU 모델 없이 사용할 수 있습니다.\n",
        "\n",
        "따라서, (1) NLU+RuleDST 또는 (2) Word-DST 로 조합이 가능합니다.\n",
        "\n",
        "[주의!] Word-DST 의 경우 sys_nlu = None 이어야 합니다.\n",
        "\n",
        "Word-Policy 모델들은 Dialogue Policy 와 NLG 가 합쳐진 모델을 의미합니다. 따라서 별도의 NLG 모델없이 사용할 수 있습니다.\n",
        "\n",
        "따라서, (1) Policy+NLG 또는 Word-Policy 로 조합이 가능합니다.\n",
        "\n",
        "[주의!] Word-Policy 의 경우 sys_nlg = None 이어야 합니다.\n"
      ]
    },
    {
      "cell_type": "markdown",
      "metadata": {},
      "source": [
        "아래 코드는 system module들의 예시입니다."
      ]
    },
    {
      "cell_type": "code",
      "metadata": {
        "id": "DZMk9wAlONrz",
        "colab_type": "code",
        "colab": {},
        "tags": []
      },
      "source": [
        "# NLU+RuleDST:\n",
        "sys_nlu = MILU()\n",
        "# sys_nlu = SVMNLU()\n",
        "# sys_nlu = BERTNLU()\n",
        "sys_dst = RuleDST()\n",
        "\n",
        "# or Word-DST:\n",
        "# sys_nlu = None\n",
        "# sys_dst = SUMBT()\n",
        "# sys_dst = TRADE()\n",
        "#### (not working!) sys_dst = MDBT()\n",
        "\n",
        "# [Caution] In Word-DST case, sys_nlu must be \"None\"\n",
        "\n",
        "# Policy+NLG:\n",
        "sys_policy = RulePolicy()\n",
        "# sys_policy = PPOPolicy()\n",
        "# sys_policy = PGPolicy()\n",
        "# sys_policy = MLEPolicy()\n",
        "# sys_policy = GDPLPolicy()\n",
        "sys_nlg = TemplateNLG(is_user=False)\n",
        "#sys_nlg = SCLSTM(is_user=False)\n",
        "\n",
        "# or Word-Policy:\n",
        "# sys_policy = LaRL()\n",
        "# sys_policy = HDSA()\n",
        "# sys_policy = MDRGWordPolicy()\n",
        "# sys_nlg = None\n",
        "\n",
        "# [Caution] \"In Word-policy case, sys_nlg must be None\"\n",
        "\n",
        "sys_agent = PipelineAgent(sys_nlu, sys_dst, sys_policy, sys_nlg, 'sys')\n",
        "\n",
        "## End-to-End model\n",
        "# sys_agent = Sequicity()\n",
        "# sys_agent = Damd()\n"
      ],
      "execution_count": 8,
      "outputs": [
        {
          "output_type": "stream",
          "name": "stdout",
          "text": "Load from https://convlab.blob.core.windows.net/convlab-2/milu_multiwoz_all_context.tar.gz\n08/11/2020 21:07:34 - INFO - allennlp.models.archival -   loading archive file /home/syseo/.convlab2/cache/adeae6e5151198de3b1634fcb630a0243cd2e098a75703260c4489c6e92a5f51.4fff038b1c36dbb489d93575f604cf72276b651ac6b370b5a48f8f67df2ed971\n08/11/2020 21:07:34 - INFO - allennlp.models.archival -   extracting archive file /home/syseo/.convlab2/cache/adeae6e5151198de3b1634fcb630a0243cd2e098a75703260c4489c6e92a5f51.4fff038b1c36dbb489d93575f604cf72276b651ac6b370b5a48f8f67df2ed971 to temp dir /tmp/tmppypsffvq\n08/11/2020 21:07:34 - INFO - allennlp.common.registrable -   instantiating registered subclass milu of <class 'allennlp.models.model.Model'>\n08/11/2020 21:07:34 - INFO - allennlp.common.params -   type = default\n08/11/2020 21:07:34 - INFO - allennlp.common.registrable -   instantiating registered subclass default of <class 'allennlp.data.vocabulary.Vocabulary'>\n08/11/2020 21:07:34 - INFO - allennlp.data.vocabulary -   Loading token dictionary from /tmp/tmppypsffvq/vocabulary.\n08/11/2020 21:07:34 - INFO - allennlp.common.from_params -   instantiating class <class 'allennlp.models.model.Model'> from params {'attention': {'matrix_dim': 400, 'type': 'bilinear', 'vector_dim': 400}, 'attention_for_intent': False, 'attention_for_tag': False, 'context_for_intent': True, 'context_for_tag': False, 'dropout': 0.3, 'encoder': {'bidirectional': True, 'dropout': 0.5, 'hidden_size': 200, 'input_size': 178, 'num_layers': 1, 'type': 'lstm'}, 'include_start_end_transitions': False, 'intent_encoder': {'bidirectional': True, 'dropout': 0.5, 'hidden_size': 200, 'input_size': 400, 'num_layers': 1, 'type': 'lstm'}, 'label_encoding': 'BIO', 'regularizer': [['scalar_parameters', {'alpha': 0.1, 'type': 'l2'}]], 'text_field_embedder': {'token_embedders': {'token_characters': {'embedding': {'embedding_dim': 16}, 'encoder': {'conv_layer_activation': 'relu', 'embedding_dim': 16, 'ngram_filter_sizes': [3], 'num_filters': 128, 'type': 'cnn'}, 'type': 'character_encoding'}, 'tokens': {'embedding_dim': 50, 'trainable': True, 'type': 'embedding'}}}, 'type': 'milu'} and extras {'vocab'}\n08/11/2020 21:07:34 - INFO - allennlp.common.params -   model.type = milu\n08/11/2020 21:07:34 - INFO - allennlp.common.from_params -   instantiating class <class 'convlab2.nlu.milu.model.MILU'> from params {'attention': {'matrix_dim': 400, 'type': 'bilinear', 'vector_dim': 400}, 'attention_for_intent': False, 'attention_for_tag': False, 'context_for_intent': True, 'context_for_tag': False, 'dropout': 0.3, 'encoder': {'bidirectional': True, 'dropout': 0.5, 'hidden_size': 200, 'input_size': 178, 'num_layers': 1, 'type': 'lstm'}, 'include_start_end_transitions': False, 'intent_encoder': {'bidirectional': True, 'dropout': 0.5, 'hidden_size': 200, 'input_size': 400, 'num_layers': 1, 'type': 'lstm'}, 'label_encoding': 'BIO', 'regularizer': [['scalar_parameters', {'alpha': 0.1, 'type': 'l2'}]], 'text_field_embedder': {'token_embedders': {'token_characters': {'embedding': {'embedding_dim': 16}, 'encoder': {'conv_layer_activation': 'relu', 'embedding_dim': 16, 'ngram_filter_sizes': [3], 'num_filters': 128, 'type': 'cnn'}, 'type': 'character_encoding'}, 'tokens': {'embedding_dim': 50, 'trainable': True, 'type': 'embedding'}}}} and extras {'vocab'}\n08/11/2020 21:07:34 - INFO - allennlp.common.from_params -   instantiating class <class 'allennlp.modules.text_field_embedders.text_field_embedder.TextFieldEmbedder'> from params {'token_embedders': {'token_characters': {'embedding': {'embedding_dim': 16}, 'encoder': {'conv_layer_activation': 'relu', 'embedding_dim': 16, 'ngram_filter_sizes': [3], 'num_filters': 128, 'type': 'cnn'}, 'type': 'character_encoding'}, 'tokens': {'embedding_dim': 50, 'trainable': True, 'type': 'embedding'}}} and extras {'vocab'}\n08/11/2020 21:07:34 - INFO - allennlp.common.params -   model.text_field_embedder.type = basic\n08/11/2020 21:07:34 - INFO - allennlp.common.params -   model.text_field_embedder.embedder_to_indexer_map = None\n08/11/2020 21:07:34 - INFO - allennlp.common.params -   model.text_field_embedder.allow_unmatched_keys = False\n08/11/2020 21:07:34 - INFO - allennlp.common.from_params -   instantiating class <class 'allennlp.modules.token_embedders.token_embedder.TokenEmbedder'> from params {'embedding': {'embedding_dim': 16}, 'encoder': {'conv_layer_activation': 'relu', 'embedding_dim': 16, 'ngram_filter_sizes': [3], 'num_filters': 128, 'type': 'cnn'}, 'type': 'character_encoding'} and extras {'vocab'}\n08/11/2020 21:07:34 - INFO - allennlp.common.params -   model.text_field_embedder.token_embedders.token_characters.type = character_encoding\n08/11/2020 21:07:34 - INFO - allennlp.common.params -   model.text_field_embedder.token_embedders.token_characters.embedding.num_embeddings = None\n08/11/2020 21:07:34 - INFO - allennlp.common.params -   model.text_field_embedder.token_embedders.token_characters.embedding.vocab_namespace = token_characters\n08/11/2020 21:07:34 - INFO - allennlp.common.params -   model.text_field_embedder.token_embedders.token_characters.embedding.embedding_dim = 16\n08/11/2020 21:07:34 - INFO - allennlp.common.params -   model.text_field_embedder.token_embedders.token_characters.embedding.pretrained_file = None\n08/11/2020 21:07:34 - INFO - allennlp.common.params -   model.text_field_embedder.token_embedders.token_characters.embedding.projection_dim = None\n08/11/2020 21:07:34 - INFO - allennlp.common.params -   model.text_field_embedder.token_embedders.token_characters.embedding.trainable = True\n08/11/2020 21:07:34 - INFO - allennlp.common.params -   model.text_field_embedder.token_embedders.token_characters.embedding.padding_index = None\n08/11/2020 21:07:34 - INFO - allennlp.common.params -   model.text_field_embedder.token_embedders.token_characters.embedding.max_norm = None\n08/11/2020 21:07:34 - INFO - allennlp.common.params -   model.text_field_embedder.token_embedders.token_characters.embedding.norm_type = 2.0\n08/11/2020 21:07:34 - INFO - allennlp.common.params -   model.text_field_embedder.token_embedders.token_characters.embedding.scale_grad_by_freq = False\n08/11/2020 21:07:34 - INFO - allennlp.common.params -   model.text_field_embedder.token_embedders.token_characters.embedding.sparse = False\n08/11/2020 21:07:34 - INFO - allennlp.common.from_params -   instantiating class <class 'allennlp.modules.seq2vec_encoders.seq2vec_encoder.Seq2VecEncoder'> from params {'conv_layer_activation': 'relu', 'embedding_dim': 16, 'ngram_filter_sizes': [3], 'num_filters': 128, 'type': 'cnn'} and extras set()\n08/11/2020 21:07:34 - INFO - allennlp.common.params -   model.text_field_embedder.token_embedders.token_characters.encoder.type = cnn\n08/11/2020 21:07:34 - INFO - allennlp.common.from_params -   instantiating class <class 'allennlp.modules.seq2vec_encoders.cnn_encoder.CnnEncoder'> from params {'conv_layer_activation': 'relu', 'embedding_dim': 16, 'ngram_filter_sizes': [3], 'num_filters': 128} and extras set()\n08/11/2020 21:07:34 - INFO - allennlp.common.params -   model.text_field_embedder.token_embedders.token_characters.encoder.embedding_dim = 16\n08/11/2020 21:07:34 - INFO - allennlp.common.params -   model.text_field_embedder.token_embedders.token_characters.encoder.num_filters = 128\n08/11/2020 21:07:34 - INFO - allennlp.common.params -   model.text_field_embedder.token_embedders.token_characters.encoder.ngram_filter_sizes = [3]\n08/11/2020 21:07:34 - INFO - allennlp.common.params -   model.text_field_embedder.token_embedders.token_characters.encoder.conv_layer_activation = relu\n08/11/2020 21:07:34 - INFO - allennlp.common.registrable -   instantiating registered subclass relu of <class 'allennlp.nn.activations.Activation'>\n08/11/2020 21:07:34 - INFO - allennlp.common.params -   model.text_field_embedder.token_embedders.token_characters.encoder.output_dim = None\n08/11/2020 21:07:34 - INFO - allennlp.common.params -   model.text_field_embedder.token_embedders.token_characters.dropout = 0.0\n08/11/2020 21:07:34 - INFO - allennlp.common.from_params -   instantiating class <class 'allennlp.modules.token_embedders.token_embedder.TokenEmbedder'> from params {'embedding_dim': 50, 'trainable': True, 'type': 'embedding'} and extras {'vocab'}\n08/11/2020 21:07:34 - INFO - allennlp.common.params -   model.text_field_embedder.token_embedders.tokens.type = embedding\n08/11/2020 21:07:34 - INFO - allennlp.common.params -   model.text_field_embedder.token_embedders.tokens.num_embeddings = None\n08/11/2020 21:07:34 - INFO - allennlp.common.params -   model.text_field_embedder.token_embedders.tokens.vocab_namespace = tokens\n08/11/2020 21:07:34 - INFO - allennlp.common.params -   model.text_field_embedder.token_embedders.tokens.embedding_dim = 50\n08/11/2020 21:07:34 - INFO - allennlp.common.params -   model.text_field_embedder.token_embedders.tokens.pretrained_file = None\n08/11/2020 21:07:34 - INFO - allennlp.common.params -   model.text_field_embedder.token_embedders.tokens.projection_dim = None\n08/11/2020 21:07:34 - INFO - allennlp.common.params -   model.text_field_embedder.token_embedders.tokens.trainable = True\n08/11/2020 21:07:34 - INFO - allennlp.common.params -   model.text_field_embedder.token_embedders.tokens.padding_index = None\n08/11/2020 21:07:34 - INFO - allennlp.common.params -   model.text_field_embedder.token_embedders.tokens.max_norm = None\n08/11/2020 21:07:34 - INFO - allennlp.common.params -   model.text_field_embedder.token_embedders.tokens.norm_type = 2.0\n08/11/2020 21:07:34 - INFO - allennlp.common.params -   model.text_field_embedder.token_embedders.tokens.scale_grad_by_freq = False\n08/11/2020 21:07:34 - INFO - allennlp.common.params -   model.text_field_embedder.token_embedders.tokens.sparse = False\n08/11/2020 21:07:34 - INFO - allennlp.common.from_params -   instantiating class <class 'allennlp.modules.seq2seq_encoders.seq2seq_encoder.Seq2SeqEncoder'> from params {'bidirectional': True, 'dropout': 0.5, 'hidden_size': 200, 'input_size': 178, 'num_layers': 1, 'type': 'lstm'} and extras {'vocab'}\n08/11/2020 21:07:34 - INFO - allennlp.common.params -   model.encoder.type = lstm\n08/11/2020 21:07:34 - INFO - allennlp.common.params -   model.encoder.batch_first = True\n08/11/2020 21:07:34 - INFO - allennlp.common.params -   model.encoder.stateful = False\n08/11/2020 21:07:34 - INFO - allennlp.common.params -   Converting Params object to dict; logging of default values will not occur when dictionary parameters are used subsequently.\n08/11/2020 21:07:34 - INFO - allennlp.common.params -   CURRENTLY DEFINED PARAMETERS: \n08/11/2020 21:07:34 - INFO - allennlp.common.params -   model.encoder.bidirectional = True\n08/11/2020 21:07:34 - INFO - allennlp.common.params -   model.encoder.dropout = 0.5\n08/11/2020 21:07:34 - INFO - allennlp.common.params -   model.encoder.hidden_size = 200\n08/11/2020 21:07:34 - INFO - allennlp.common.params -   model.encoder.input_size = 178\n08/11/2020 21:07:34 - INFO - allennlp.common.params -   model.encoder.num_layers = 1\n08/11/2020 21:07:34 - INFO - allennlp.common.params -   model.encoder.batch_first = True\n08/11/2020 21:07:34 - INFO - allennlp.common.from_params -   instantiating class <class 'allennlp.modules.seq2seq_encoders.seq2seq_encoder.Seq2SeqEncoder'> from params {'bidirectional': True, 'dropout': 0.5, 'hidden_size': 200, 'input_size': 400, 'num_layers': 1, 'type': 'lstm'} and extras {'vocab'}\n08/11/2020 21:07:34 - INFO - allennlp.common.params -   model.intent_encoder.type = lstm\n08/11/2020 21:07:34 - INFO - allennlp.common.params -   model.intent_encoder.batch_first = True\n08/11/2020 21:07:34 - INFO - allennlp.common.params -   model.intent_encoder.stateful = False\n08/11/2020 21:07:34 - INFO - allennlp.common.params -   Converting Params object to dict; logging of default values will not occur when dictionary parameters are used subsequently.\n08/11/2020 21:07:34 - INFO - allennlp.common.params -   CURRENTLY DEFINED PARAMETERS: \n08/11/2020 21:07:34 - INFO - allennlp.common.params -   model.intent_encoder.bidirectional = True\n08/11/2020 21:07:34 - INFO - allennlp.common.params -   model.intent_encoder.dropout = 0.5\n08/11/2020 21:07:34 - INFO - allennlp.common.params -   model.intent_encoder.hidden_size = 200\n08/11/2020 21:07:34 - INFO - allennlp.common.params -   model.intent_encoder.input_size = 400\n08/11/2020 21:07:34 - INFO - allennlp.common.params -   model.intent_encoder.num_layers = 1\n08/11/2020 21:07:34 - INFO - allennlp.common.params -   model.intent_encoder.batch_first = True\n08/11/2020 21:07:34 - INFO - allennlp.common.from_params -   instantiating class <class 'allennlp.modules.attention.attention.Attention'> from params {'matrix_dim': 400, 'type': 'bilinear', 'vector_dim': 400} and extras {'vocab'}\n08/11/2020 21:07:34 - INFO - allennlp.common.params -   model.attention.type = bilinear\n08/11/2020 21:07:34 - INFO - allennlp.common.from_params -   instantiating class <class 'allennlp.modules.attention.bilinear_attention.BilinearAttention'> from params {'matrix_dim': 400, 'vector_dim': 400} and extras {'vocab'}\n08/11/2020 21:07:34 - INFO - allennlp.common.params -   model.attention.vector_dim = 400\n08/11/2020 21:07:34 - INFO - allennlp.common.params -   model.attention.matrix_dim = 400\n08/11/2020 21:07:34 - INFO - allennlp.common.params -   model.attention.normalize = True\n08/11/2020 21:07:34 - INFO - allennlp.common.registrable -   instantiating registered subclass linear of <class 'allennlp.nn.activations.Activation'>\n08/11/2020 21:07:34 - INFO - allennlp.common.params -   model.context_for_intent = True\n08/11/2020 21:07:34 - INFO - allennlp.common.params -   model.context_for_tag = False\n08/11/2020 21:07:34 - INFO - allennlp.common.params -   model.attention_for_intent = False\n08/11/2020 21:07:34 - INFO - allennlp.common.params -   model.attention_for_tag = False\n08/11/2020 21:07:34 - INFO - allennlp.common.params -   model.sequence_label_namespace = labels\n08/11/2020 21:07:34 - INFO - allennlp.common.params -   model.intent_label_namespace = intent_labels\n08/11/2020 21:07:34 - INFO - allennlp.common.params -   model.label_encoding = BIO\n08/11/2020 21:07:34 - INFO - allennlp.common.params -   model.include_start_end_transitions = False\n08/11/2020 21:07:34 - INFO - allennlp.common.params -   model.crf_decoding = False\n08/11/2020 21:07:34 - INFO - allennlp.common.params -   model.constrain_crf_decoding = None\n08/11/2020 21:07:34 - INFO - allennlp.common.params -   model.focal_loss_gamma = None\n08/11/2020 21:07:34 - INFO - allennlp.common.params -   model.nongeneral_intent_weight = 5.0\n08/11/2020 21:07:34 - INFO - allennlp.common.params -   model.num_train_examples = None\n08/11/2020 21:07:34 - INFO - allennlp.common.params -   model.calculate_span_f1 = None\n08/11/2020 21:07:34 - INFO - allennlp.common.params -   model.dropout = 0.3\n08/11/2020 21:07:34 - INFO - allennlp.common.params -   model.verbose_metrics = False\n08/11/2020 21:07:34 - INFO - allennlp.common.params -   model.regularizer.0.1.type = l2\n08/11/2020 21:07:34 - INFO - allennlp.common.registrable -   instantiating registered subclass l2 of <class 'allennlp.nn.regularizers.regularizer.Regularizer'>\n08/11/2020 21:07:34 - INFO - allennlp.nn.initializers -   Initializing parameters\n08/11/2020 21:07:34 - INFO - allennlp.nn.initializers -   Done initializing parameters; the following parameters are using their default initialization from their code\n08/11/2020 21:07:34 - INFO - allennlp.nn.initializers -      attention._bias\n08/11/2020 21:07:34 - INFO - allennlp.nn.initializers -      attention._weight_matrix\n08/11/2020 21:07:34 - INFO - allennlp.nn.initializers -      encoder._module.bias_hh_l0\n08/11/2020 21:07:34 - INFO - allennlp.nn.initializers -      encoder._module.bias_hh_l0_reverse\n08/11/2020 21:07:34 - INFO - allennlp.nn.initializers -      encoder._module.bias_ih_l0\n08/11/2020 21:07:34 - INFO - allennlp.nn.initializers -      encoder._module.bias_ih_l0_reverse\n08/11/2020 21:07:34 - INFO - allennlp.nn.initializers -      encoder._module.weight_hh_l0\n08/11/2020 21:07:34 - INFO - allennlp.nn.initializers -      encoder._module.weight_hh_l0_reverse\n08/11/2020 21:07:34 - INFO - allennlp.nn.initializers -      encoder._module.weight_ih_l0\n08/11/2020 21:07:34 - INFO - allennlp.nn.initializers -      encoder._module.weight_ih_l0_reverse\n08/11/2020 21:07:34 - INFO - allennlp.nn.initializers -      intent_encoder._module.bias_hh_l0\n08/11/2020 21:07:34 - INFO - allennlp.nn.initializers -      intent_encoder._module.bias_hh_l0_reverse\n08/11/2020 21:07:34 - INFO - allennlp.nn.initializers -      intent_encoder._module.bias_ih_l0\n08/11/2020 21:07:34 - INFO - allennlp.nn.initializers -      intent_encoder._module.bias_ih_l0_reverse\n08/11/2020 21:07:34 - INFO - allennlp.nn.initializers -      intent_encoder._module.weight_hh_l0\n08/11/2020 21:07:34 - INFO - allennlp.nn.initializers -      intent_encoder._module.weight_hh_l0_reverse\n08/11/2020 21:07:34 - INFO - allennlp.nn.initializers -      intent_encoder._module.weight_ih_l0\n08/11/2020 21:07:34 - INFO - allennlp.nn.initializers -      intent_encoder._module.weight_ih_l0_reverse\n08/11/2020 21:07:34 - INFO - allennlp.nn.initializers -      intent_projection_layer.bias\n08/11/2020 21:07:34 - INFO - allennlp.nn.initializers -      intent_projection_layer.weight\n08/11/2020 21:07:34 - INFO - allennlp.nn.initializers -      tag_projection_layer._module.bias\n08/11/2020 21:07:34 - INFO - allennlp.nn.initializers -      tag_projection_layer._module.weight\n08/11/2020 21:07:34 - INFO - allennlp.nn.initializers -      text_field_embedder.token_embedder_token_characters._embedding._module.weight\n08/11/2020 21:07:34 - INFO - allennlp.nn.initializers -      text_field_embedder.token_embedder_token_characters._encoder._module.conv_layer_0.bias\n08/11/2020 21:07:34 - INFO - allennlp.nn.initializers -      text_field_embedder.token_embedder_token_characters._encoder._module.conv_layer_0.weight\n08/11/2020 21:07:34 - INFO - allennlp.nn.initializers -      text_field_embedder.token_embedder_tokens.weight\n"
        },
        {
          "output_type": "error",
          "ename": "RuntimeError",
          "evalue": "CUDA error: out of memory",
          "traceback": [
            "\u001b[0;31m---------------------------------------------------------------------------\u001b[0m",
            "\u001b[0;31mRuntimeError\u001b[0m                              Traceback (most recent call last)",
            "\u001b[0;32m<ipython-input-8-2979e6311905>\u001b[0m in \u001b[0;36m<module>\u001b[0;34m\u001b[0m\n\u001b[1;32m      1\u001b[0m \u001b[0;31m# NLU+RuleDST:\u001b[0m\u001b[0;34m\u001b[0m\u001b[0;34m\u001b[0m\u001b[0;34m\u001b[0m\u001b[0m\n\u001b[0;32m----> 2\u001b[0;31m \u001b[0msys_nlu\u001b[0m \u001b[0;34m=\u001b[0m \u001b[0mMILU\u001b[0m\u001b[0;34m(\u001b[0m\u001b[0;34m)\u001b[0m\u001b[0;34m\u001b[0m\u001b[0;34m\u001b[0m\u001b[0m\n\u001b[0m\u001b[1;32m      3\u001b[0m \u001b[0;31m# sys_nlu = SVMNLU()\u001b[0m\u001b[0;34m\u001b[0m\u001b[0;34m\u001b[0m\u001b[0;34m\u001b[0m\u001b[0m\n\u001b[1;32m      4\u001b[0m \u001b[0;31m# sys_nlu = BERTNLU()\u001b[0m\u001b[0;34m\u001b[0m\u001b[0;34m\u001b[0m\u001b[0;34m\u001b[0m\u001b[0m\n\u001b[1;32m      5\u001b[0m \u001b[0msys_dst\u001b[0m \u001b[0;34m=\u001b[0m \u001b[0mRuleDST\u001b[0m\u001b[0;34m(\u001b[0m\u001b[0;34m)\u001b[0m\u001b[0;34m\u001b[0m\u001b[0;34m\u001b[0m\u001b[0m\n",
            "\u001b[0;32m~/workspace/samsung_dialogue_tutorial/ConvLab-2/convlab2/nlu/milu/multiwoz/nlu.py\u001b[0m in \u001b[0;36m__init__\u001b[0;34m(self, archive_file, cuda_device, model_file, context_size)\u001b[0m\n\u001b[1;32m     44\u001b[0m \u001b[0;34m\u001b[0m\u001b[0m\n\u001b[1;32m     45\u001b[0m         archive = load_archive(archive_file,\n\u001b[0;32m---> 46\u001b[0;31m                             cuda_device=cuda_device)\n\u001b[0m\u001b[1;32m     47\u001b[0m         \u001b[0mself\u001b[0m\u001b[0;34m.\u001b[0m\u001b[0mtokenizer\u001b[0m \u001b[0;34m=\u001b[0m \u001b[0mSpacyWordSplitter\u001b[0m\u001b[0;34m(\u001b[0m\u001b[0mlanguage\u001b[0m\u001b[0;34m=\u001b[0m\u001b[0;34m\"en_core_web_sm\"\u001b[0m\u001b[0;34m)\u001b[0m\u001b[0;34m\u001b[0m\u001b[0;34m\u001b[0m\u001b[0m\n\u001b[1;32m     48\u001b[0m         \u001b[0m_special_case\u001b[0m \u001b[0;34m=\u001b[0m \u001b[0;34m[\u001b[0m\u001b[0;34m{\u001b[0m\u001b[0mORTH\u001b[0m\u001b[0;34m:\u001b[0m \u001b[0;34mu\"id\"\u001b[0m\u001b[0;34m,\u001b[0m \u001b[0mLEMMA\u001b[0m\u001b[0;34m:\u001b[0m \u001b[0;34mu\"id\"\u001b[0m\u001b[0;34m}\u001b[0m\u001b[0;34m]\u001b[0m\u001b[0;34m\u001b[0m\u001b[0;34m\u001b[0m\u001b[0m\n",
            "\u001b[0;32m~/anaconda3/envs/0813_dialogue_system/lib/python3.7/site-packages/allennlp/models/archival.py\u001b[0m in \u001b[0;36mload_archive\u001b[0;34m(archive_file, cuda_device, overrides, weights_file)\u001b[0m\n\u001b[1;32m    228\u001b[0m                        \u001b[0mweights_file\u001b[0m\u001b[0;34m=\u001b[0m\u001b[0mweights_path\u001b[0m\u001b[0;34m,\u001b[0m\u001b[0;34m\u001b[0m\u001b[0;34m\u001b[0m\u001b[0m\n\u001b[1;32m    229\u001b[0m                        \u001b[0mserialization_dir\u001b[0m\u001b[0;34m=\u001b[0m\u001b[0mserialization_dir\u001b[0m\u001b[0;34m,\u001b[0m\u001b[0;34m\u001b[0m\u001b[0;34m\u001b[0m\u001b[0m\n\u001b[0;32m--> 230\u001b[0;31m                        cuda_device=cuda_device)\n\u001b[0m\u001b[1;32m    231\u001b[0m \u001b[0;34m\u001b[0m\u001b[0m\n\u001b[1;32m    232\u001b[0m     \u001b[0;32mreturn\u001b[0m \u001b[0mArchive\u001b[0m\u001b[0;34m(\u001b[0m\u001b[0mmodel\u001b[0m\u001b[0;34m=\u001b[0m\u001b[0mmodel\u001b[0m\u001b[0;34m,\u001b[0m \u001b[0mconfig\u001b[0m\u001b[0;34m=\u001b[0m\u001b[0mconfig\u001b[0m\u001b[0;34m)\u001b[0m\u001b[0;34m\u001b[0m\u001b[0;34m\u001b[0m\u001b[0m\n",
            "\u001b[0;32m~/anaconda3/envs/0813_dialogue_system/lib/python3.7/site-packages/allennlp/models/model.py\u001b[0m in \u001b[0;36mload\u001b[0;34m(cls, config, serialization_dir, weights_file, cuda_device)\u001b[0m\n\u001b[1;32m    325\u001b[0m         \u001b[0;31m# This allows subclasses of Model to override _load.\u001b[0m\u001b[0;34m\u001b[0m\u001b[0;34m\u001b[0m\u001b[0;34m\u001b[0m\u001b[0m\n\u001b[1;32m    326\u001b[0m         \u001b[0;31m# pylint: disable=protected-access\u001b[0m\u001b[0;34m\u001b[0m\u001b[0;34m\u001b[0m\u001b[0;34m\u001b[0m\u001b[0m\n\u001b[0;32m--> 327\u001b[0;31m         \u001b[0;32mreturn\u001b[0m \u001b[0mcls\u001b[0m\u001b[0;34m.\u001b[0m\u001b[0mby_name\u001b[0m\u001b[0;34m(\u001b[0m\u001b[0mmodel_type\u001b[0m\u001b[0;34m)\u001b[0m\u001b[0;34m.\u001b[0m\u001b[0m_load\u001b[0m\u001b[0;34m(\u001b[0m\u001b[0mconfig\u001b[0m\u001b[0;34m,\u001b[0m \u001b[0mserialization_dir\u001b[0m\u001b[0;34m,\u001b[0m \u001b[0mweights_file\u001b[0m\u001b[0;34m,\u001b[0m \u001b[0mcuda_device\u001b[0m\u001b[0;34m)\u001b[0m\u001b[0;34m\u001b[0m\u001b[0;34m\u001b[0m\u001b[0m\n\u001b[0m\u001b[1;32m    328\u001b[0m \u001b[0;34m\u001b[0m\u001b[0m\n\u001b[1;32m    329\u001b[0m     \u001b[0;32mdef\u001b[0m \u001b[0mextend_embedder_vocab\u001b[0m\u001b[0;34m(\u001b[0m\u001b[0mself\u001b[0m\u001b[0;34m,\u001b[0m \u001b[0membedding_sources_mapping\u001b[0m\u001b[0;34m:\u001b[0m \u001b[0mDict\u001b[0m\u001b[0;34m[\u001b[0m\u001b[0mstr\u001b[0m\u001b[0;34m,\u001b[0m \u001b[0mstr\u001b[0m\u001b[0;34m]\u001b[0m \u001b[0;34m=\u001b[0m \u001b[0;32mNone\u001b[0m\u001b[0;34m)\u001b[0m \u001b[0;34m->\u001b[0m \u001b[0;32mNone\u001b[0m\u001b[0;34m:\u001b[0m\u001b[0;34m\u001b[0m\u001b[0;34m\u001b[0m\u001b[0m\n",
            "\u001b[0;32m~/anaconda3/envs/0813_dialogue_system/lib/python3.7/site-packages/allennlp/models/model.py\u001b[0m in \u001b[0;36m_load\u001b[0;34m(cls, config, serialization_dir, weights_file, cuda_device)\u001b[0m\n\u001b[1;32m    273\u001b[0m         \u001b[0mmodel\u001b[0m\u001b[0;34m.\u001b[0m\u001b[0mextend_embedder_vocab\u001b[0m\u001b[0;34m(\u001b[0m\u001b[0;34m)\u001b[0m\u001b[0;34m\u001b[0m\u001b[0;34m\u001b[0m\u001b[0m\n\u001b[1;32m    274\u001b[0m \u001b[0;34m\u001b[0m\u001b[0m\n\u001b[0;32m--> 275\u001b[0;31m         \u001b[0mmodel_state\u001b[0m \u001b[0;34m=\u001b[0m \u001b[0mtorch\u001b[0m\u001b[0;34m.\u001b[0m\u001b[0mload\u001b[0m\u001b[0;34m(\u001b[0m\u001b[0mweights_file\u001b[0m\u001b[0;34m,\u001b[0m \u001b[0mmap_location\u001b[0m\u001b[0;34m=\u001b[0m\u001b[0mutil\u001b[0m\u001b[0;34m.\u001b[0m\u001b[0mdevice_mapping\u001b[0m\u001b[0;34m(\u001b[0m\u001b[0mcuda_device\u001b[0m\u001b[0;34m)\u001b[0m\u001b[0;34m)\u001b[0m\u001b[0;34m\u001b[0m\u001b[0;34m\u001b[0m\u001b[0m\n\u001b[0m\u001b[1;32m    276\u001b[0m         \u001b[0mmodel\u001b[0m\u001b[0;34m.\u001b[0m\u001b[0mload_state_dict\u001b[0m\u001b[0;34m(\u001b[0m\u001b[0mmodel_state\u001b[0m\u001b[0;34m)\u001b[0m\u001b[0;34m\u001b[0m\u001b[0;34m\u001b[0m\u001b[0m\n\u001b[1;32m    277\u001b[0m \u001b[0;34m\u001b[0m\u001b[0m\n",
            "\u001b[0;32m~/anaconda3/envs/0813_dialogue_system/lib/python3.7/site-packages/torch/serialization.py\u001b[0m in \u001b[0;36mload\u001b[0;34m(f, map_location, pickle_module, **pickle_load_args)\u001b[0m\n\u001b[1;32m    384\u001b[0m         \u001b[0mf\u001b[0m \u001b[0;34m=\u001b[0m \u001b[0mf\u001b[0m\u001b[0;34m.\u001b[0m\u001b[0mopen\u001b[0m\u001b[0;34m(\u001b[0m\u001b[0;34m'rb'\u001b[0m\u001b[0;34m)\u001b[0m\u001b[0;34m\u001b[0m\u001b[0;34m\u001b[0m\u001b[0m\n\u001b[1;32m    385\u001b[0m     \u001b[0;32mtry\u001b[0m\u001b[0;34m:\u001b[0m\u001b[0;34m\u001b[0m\u001b[0;34m\u001b[0m\u001b[0m\n\u001b[0;32m--> 386\u001b[0;31m         \u001b[0;32mreturn\u001b[0m \u001b[0m_load\u001b[0m\u001b[0;34m(\u001b[0m\u001b[0mf\u001b[0m\u001b[0;34m,\u001b[0m \u001b[0mmap_location\u001b[0m\u001b[0;34m,\u001b[0m \u001b[0mpickle_module\u001b[0m\u001b[0;34m,\u001b[0m \u001b[0;34m**\u001b[0m\u001b[0mpickle_load_args\u001b[0m\u001b[0;34m)\u001b[0m\u001b[0;34m\u001b[0m\u001b[0;34m\u001b[0m\u001b[0m\n\u001b[0m\u001b[1;32m    387\u001b[0m     \u001b[0;32mfinally\u001b[0m\u001b[0;34m:\u001b[0m\u001b[0;34m\u001b[0m\u001b[0;34m\u001b[0m\u001b[0m\n\u001b[1;32m    388\u001b[0m         \u001b[0;32mif\u001b[0m \u001b[0mnew_fd\u001b[0m\u001b[0;34m:\u001b[0m\u001b[0;34m\u001b[0m\u001b[0;34m\u001b[0m\u001b[0m\n",
            "\u001b[0;32m~/anaconda3/envs/0813_dialogue_system/lib/python3.7/site-packages/torch/serialization.py\u001b[0m in \u001b[0;36m_load\u001b[0;34m(f, map_location, pickle_module, **pickle_load_args)\u001b[0m\n\u001b[1;32m    571\u001b[0m     \u001b[0munpickler\u001b[0m \u001b[0;34m=\u001b[0m \u001b[0mpickle_module\u001b[0m\u001b[0;34m.\u001b[0m\u001b[0mUnpickler\u001b[0m\u001b[0;34m(\u001b[0m\u001b[0mf\u001b[0m\u001b[0;34m,\u001b[0m \u001b[0;34m**\u001b[0m\u001b[0mpickle_load_args\u001b[0m\u001b[0;34m)\u001b[0m\u001b[0;34m\u001b[0m\u001b[0;34m\u001b[0m\u001b[0m\n\u001b[1;32m    572\u001b[0m     \u001b[0munpickler\u001b[0m\u001b[0;34m.\u001b[0m\u001b[0mpersistent_load\u001b[0m \u001b[0;34m=\u001b[0m \u001b[0mpersistent_load\u001b[0m\u001b[0;34m\u001b[0m\u001b[0;34m\u001b[0m\u001b[0m\n\u001b[0;32m--> 573\u001b[0;31m     \u001b[0mresult\u001b[0m \u001b[0;34m=\u001b[0m \u001b[0munpickler\u001b[0m\u001b[0;34m.\u001b[0m\u001b[0mload\u001b[0m\u001b[0;34m(\u001b[0m\u001b[0;34m)\u001b[0m\u001b[0;34m\u001b[0m\u001b[0;34m\u001b[0m\u001b[0m\n\u001b[0m\u001b[1;32m    574\u001b[0m \u001b[0;34m\u001b[0m\u001b[0m\n\u001b[1;32m    575\u001b[0m     \u001b[0mdeserialized_storage_keys\u001b[0m \u001b[0;34m=\u001b[0m \u001b[0mpickle_module\u001b[0m\u001b[0;34m.\u001b[0m\u001b[0mload\u001b[0m\u001b[0;34m(\u001b[0m\u001b[0mf\u001b[0m\u001b[0;34m,\u001b[0m \u001b[0;34m**\u001b[0m\u001b[0mpickle_load_args\u001b[0m\u001b[0;34m)\u001b[0m\u001b[0;34m\u001b[0m\u001b[0;34m\u001b[0m\u001b[0m\n",
            "\u001b[0;32m~/anaconda3/envs/0813_dialogue_system/lib/python3.7/site-packages/torch/serialization.py\u001b[0m in \u001b[0;36mpersistent_load\u001b[0;34m(saved_id)\u001b[0m\n\u001b[1;32m    534\u001b[0m                 \u001b[0mobj\u001b[0m \u001b[0;34m=\u001b[0m \u001b[0mdata_type\u001b[0m\u001b[0;34m(\u001b[0m\u001b[0msize\u001b[0m\u001b[0;34m)\u001b[0m\u001b[0;34m\u001b[0m\u001b[0;34m\u001b[0m\u001b[0m\n\u001b[1;32m    535\u001b[0m                 \u001b[0mobj\u001b[0m\u001b[0;34m.\u001b[0m\u001b[0m_torch_load_uninitialized\u001b[0m \u001b[0;34m=\u001b[0m \u001b[0;32mTrue\u001b[0m\u001b[0;34m\u001b[0m\u001b[0;34m\u001b[0m\u001b[0m\n\u001b[0;32m--> 536\u001b[0;31m                 \u001b[0mdeserialized_objects\u001b[0m\u001b[0;34m[\u001b[0m\u001b[0mroot_key\u001b[0m\u001b[0;34m]\u001b[0m \u001b[0;34m=\u001b[0m \u001b[0mrestore_location\u001b[0m\u001b[0;34m(\u001b[0m\u001b[0mobj\u001b[0m\u001b[0;34m,\u001b[0m \u001b[0mlocation\u001b[0m\u001b[0;34m)\u001b[0m\u001b[0;34m\u001b[0m\u001b[0;34m\u001b[0m\u001b[0m\n\u001b[0m\u001b[1;32m    537\u001b[0m             \u001b[0mstorage\u001b[0m \u001b[0;34m=\u001b[0m \u001b[0mdeserialized_objects\u001b[0m\u001b[0;34m[\u001b[0m\u001b[0mroot_key\u001b[0m\u001b[0;34m]\u001b[0m\u001b[0;34m\u001b[0m\u001b[0;34m\u001b[0m\u001b[0m\n\u001b[1;32m    538\u001b[0m             \u001b[0;32mif\u001b[0m \u001b[0mview_metadata\u001b[0m \u001b[0;32mis\u001b[0m \u001b[0;32mnot\u001b[0m \u001b[0;32mNone\u001b[0m\u001b[0;34m:\u001b[0m\u001b[0;34m\u001b[0m\u001b[0;34m\u001b[0m\u001b[0m\n",
            "\u001b[0;32m~/anaconda3/envs/0813_dialogue_system/lib/python3.7/site-packages/torch/serialization.py\u001b[0m in \u001b[0;36mrestore_location\u001b[0;34m(storage, location)\u001b[0m\n\u001b[1;32m    407\u001b[0m     \u001b[0;32melse\u001b[0m\u001b[0;34m:\u001b[0m\u001b[0;34m\u001b[0m\u001b[0;34m\u001b[0m\u001b[0m\n\u001b[1;32m    408\u001b[0m         \u001b[0;32mdef\u001b[0m \u001b[0mrestore_location\u001b[0m\u001b[0;34m(\u001b[0m\u001b[0mstorage\u001b[0m\u001b[0;34m,\u001b[0m \u001b[0mlocation\u001b[0m\u001b[0;34m)\u001b[0m\u001b[0;34m:\u001b[0m\u001b[0;34m\u001b[0m\u001b[0;34m\u001b[0m\u001b[0m\n\u001b[0;32m--> 409\u001b[0;31m             \u001b[0mresult\u001b[0m \u001b[0;34m=\u001b[0m \u001b[0mmap_location\u001b[0m\u001b[0;34m(\u001b[0m\u001b[0mstorage\u001b[0m\u001b[0;34m,\u001b[0m \u001b[0mlocation\u001b[0m\u001b[0;34m)\u001b[0m\u001b[0;34m\u001b[0m\u001b[0;34m\u001b[0m\u001b[0m\n\u001b[0m\u001b[1;32m    410\u001b[0m             \u001b[0;32mif\u001b[0m \u001b[0mresult\u001b[0m \u001b[0;32mis\u001b[0m \u001b[0;32mNone\u001b[0m\u001b[0;34m:\u001b[0m\u001b[0;34m\u001b[0m\u001b[0;34m\u001b[0m\u001b[0m\n\u001b[1;32m    411\u001b[0m                 \u001b[0mresult\u001b[0m \u001b[0;34m=\u001b[0m \u001b[0mdefault_restore_location\u001b[0m\u001b[0;34m(\u001b[0m\u001b[0mstorage\u001b[0m\u001b[0;34m,\u001b[0m \u001b[0mlocation\u001b[0m\u001b[0;34m)\u001b[0m\u001b[0;34m\u001b[0m\u001b[0;34m\u001b[0m\u001b[0m\n",
            "\u001b[0;32m~/anaconda3/envs/0813_dialogue_system/lib/python3.7/site-packages/allennlp/nn/util.py\u001b[0m in \u001b[0;36minner_device_mapping\u001b[0;34m(storage, location)\u001b[0m\n\u001b[1;32m    826\u001b[0m     \u001b[0;32mdef\u001b[0m \u001b[0minner_device_mapping\u001b[0m\u001b[0;34m(\u001b[0m\u001b[0mstorage\u001b[0m\u001b[0;34m:\u001b[0m \u001b[0mtorch\u001b[0m\u001b[0;34m.\u001b[0m\u001b[0mStorage\u001b[0m\u001b[0;34m,\u001b[0m \u001b[0mlocation\u001b[0m\u001b[0;34m)\u001b[0m \u001b[0;34m->\u001b[0m \u001b[0mtorch\u001b[0m\u001b[0;34m.\u001b[0m\u001b[0mStorage\u001b[0m\u001b[0;34m:\u001b[0m  \u001b[0;31m# pylint: disable=unused-argument\u001b[0m\u001b[0;34m\u001b[0m\u001b[0;34m\u001b[0m\u001b[0m\n\u001b[1;32m    827\u001b[0m         \u001b[0;32mif\u001b[0m \u001b[0mcuda_device\u001b[0m \u001b[0;34m>=\u001b[0m \u001b[0;36m0\u001b[0m\u001b[0;34m:\u001b[0m\u001b[0;34m\u001b[0m\u001b[0;34m\u001b[0m\u001b[0m\n\u001b[0;32m--> 828\u001b[0;31m             \u001b[0;32mreturn\u001b[0m \u001b[0mstorage\u001b[0m\u001b[0;34m.\u001b[0m\u001b[0mcuda\u001b[0m\u001b[0;34m(\u001b[0m\u001b[0mcuda_device\u001b[0m\u001b[0;34m)\u001b[0m\u001b[0;34m\u001b[0m\u001b[0;34m\u001b[0m\u001b[0m\n\u001b[0m\u001b[1;32m    829\u001b[0m         \u001b[0;32melse\u001b[0m\u001b[0;34m:\u001b[0m\u001b[0;34m\u001b[0m\u001b[0;34m\u001b[0m\u001b[0m\n\u001b[1;32m    830\u001b[0m             \u001b[0;32mreturn\u001b[0m \u001b[0mstorage\u001b[0m\u001b[0;34m\u001b[0m\u001b[0;34m\u001b[0m\u001b[0m\n",
            "\u001b[0;32m~/anaconda3/envs/0813_dialogue_system/lib/python3.7/site-packages/torch/_utils.py\u001b[0m in \u001b[0;36m_cuda\u001b[0;34m(self, device, non_blocking, **kwargs)\u001b[0m\n\u001b[1;32m     75\u001b[0m         \u001b[0;32melse\u001b[0m\u001b[0;34m:\u001b[0m\u001b[0;34m\u001b[0m\u001b[0;34m\u001b[0m\u001b[0m\n\u001b[1;32m     76\u001b[0m             \u001b[0mnew_type\u001b[0m \u001b[0;34m=\u001b[0m \u001b[0mgetattr\u001b[0m\u001b[0;34m(\u001b[0m\u001b[0mtorch\u001b[0m\u001b[0;34m.\u001b[0m\u001b[0mcuda\u001b[0m\u001b[0;34m,\u001b[0m \u001b[0mself\u001b[0m\u001b[0;34m.\u001b[0m\u001b[0m__class__\u001b[0m\u001b[0;34m.\u001b[0m\u001b[0m__name__\u001b[0m\u001b[0;34m)\u001b[0m\u001b[0;34m\u001b[0m\u001b[0;34m\u001b[0m\u001b[0m\n\u001b[0;32m---> 77\u001b[0;31m             \u001b[0;32mreturn\u001b[0m \u001b[0mnew_type\u001b[0m\u001b[0;34m(\u001b[0m\u001b[0mself\u001b[0m\u001b[0;34m.\u001b[0m\u001b[0msize\u001b[0m\u001b[0;34m(\u001b[0m\u001b[0;34m)\u001b[0m\u001b[0;34m)\u001b[0m\u001b[0;34m.\u001b[0m\u001b[0mcopy_\u001b[0m\u001b[0;34m(\u001b[0m\u001b[0mself\u001b[0m\u001b[0;34m,\u001b[0m \u001b[0mnon_blocking\u001b[0m\u001b[0;34m)\u001b[0m\u001b[0;34m\u001b[0m\u001b[0;34m\u001b[0m\u001b[0m\n\u001b[0m\u001b[1;32m     78\u001b[0m \u001b[0;34m\u001b[0m\u001b[0m\n\u001b[1;32m     79\u001b[0m \u001b[0;34m\u001b[0m\u001b[0m\n",
            "\u001b[0;32m~/anaconda3/envs/0813_dialogue_system/lib/python3.7/site-packages/torch/cuda/__init__.py\u001b[0m in \u001b[0;36m_lazy_new\u001b[0;34m(cls, *args, **kwargs)\u001b[0m\n\u001b[1;32m    613\u001b[0m     \u001b[0;31m# We need this method only for lazy init, so we can remove it\u001b[0m\u001b[0;34m\u001b[0m\u001b[0;34m\u001b[0m\u001b[0;34m\u001b[0m\u001b[0m\n\u001b[1;32m    614\u001b[0m     \u001b[0;32mdel\u001b[0m \u001b[0m_CudaBase\u001b[0m\u001b[0;34m.\u001b[0m\u001b[0m__new__\u001b[0m\u001b[0;34m\u001b[0m\u001b[0;34m\u001b[0m\u001b[0m\n\u001b[0;32m--> 615\u001b[0;31m     \u001b[0;32mreturn\u001b[0m \u001b[0msuper\u001b[0m\u001b[0;34m(\u001b[0m\u001b[0m_CudaBase\u001b[0m\u001b[0;34m,\u001b[0m \u001b[0mcls\u001b[0m\u001b[0;34m)\u001b[0m\u001b[0;34m.\u001b[0m\u001b[0m__new__\u001b[0m\u001b[0;34m(\u001b[0m\u001b[0mcls\u001b[0m\u001b[0;34m,\u001b[0m \u001b[0;34m*\u001b[0m\u001b[0margs\u001b[0m\u001b[0;34m,\u001b[0m \u001b[0;34m**\u001b[0m\u001b[0mkwargs\u001b[0m\u001b[0;34m)\u001b[0m\u001b[0;34m\u001b[0m\u001b[0;34m\u001b[0m\u001b[0m\n\u001b[0m\u001b[1;32m    616\u001b[0m \u001b[0;34m\u001b[0m\u001b[0m\n\u001b[1;32m    617\u001b[0m \u001b[0;34m\u001b[0m\u001b[0m\n",
            "\u001b[0;31mRuntimeError\u001b[0m: CUDA error: out of memory"
          ]
        }
      ]
    },
    {
      "cell_type": "markdown",
      "metadata": {},
      "source": [
        "아래 코드에는 user simulator가 정의되어 있습니다."
      ]
    },
    {
      "cell_type": "code",
      "metadata": {
        "id": "UkHpjvR5QezN",
        "colab_type": "code",
        "colab": {},
        "tags": []
      },
      "source": [
        "user_nlu = BERTNLU()\n",
        "# user_nlu = MILU()\n",
        "# user_nlu = SVMNLU()\n",
        "user_dst = None\n",
        "user_policy = RulePolicy(character='usr')\n",
        "# user_policy = UserPolicyVHUS(load_from_zip=True)\n",
        "user_nlg = TemplateNLG(is_user=True)\n",
        "# user_nlg = SCLSTM(is_user=True)\n",
        "user_agent = PipelineAgent(user_nlu, user_dst, user_policy, user_nlg, name='user')"
      ],
      "execution_count": 14,
      "outputs": [
        {
          "output_type": "stream",
          "name": "stdout",
          "text": "intent num: 137\ntag num: 331\nLoad from /home/syseo/workspace/samsung_dialogue_tutorial/ConvLab-2/convlab2/nlu/jointBERT/multiwoz/output/all_context/pytorch_model.bin\nbert-base-uncased\n"
        },
        {
          "output_type": "error",
          "ename": "RuntimeError",
          "evalue": "CUDA error: out of memory",
          "traceback": [
            "\u001b[0;31m---------------------------------------------------------------------------\u001b[0m",
            "\u001b[0;31mRuntimeError\u001b[0m                              Traceback (most recent call last)",
            "\u001b[0;32m<ipython-input-14-c0b054f82a24>\u001b[0m in \u001b[0;36m<module>\u001b[0;34m\u001b[0m\n\u001b[0;32m----> 1\u001b[0;31m \u001b[0muser_nlu\u001b[0m \u001b[0;34m=\u001b[0m \u001b[0mBERTNLU\u001b[0m\u001b[0;34m(\u001b[0m\u001b[0;34m)\u001b[0m\u001b[0;34m\u001b[0m\u001b[0;34m\u001b[0m\u001b[0m\n\u001b[0m\u001b[1;32m      2\u001b[0m \u001b[0;31m# user_nlu = MILU()\u001b[0m\u001b[0;34m\u001b[0m\u001b[0;34m\u001b[0m\u001b[0;34m\u001b[0m\u001b[0m\n\u001b[1;32m      3\u001b[0m \u001b[0;31m# user_nlu = SVMNLU()\u001b[0m\u001b[0;34m\u001b[0m\u001b[0;34m\u001b[0m\u001b[0;34m\u001b[0m\u001b[0m\n\u001b[1;32m      4\u001b[0m \u001b[0muser_dst\u001b[0m \u001b[0;34m=\u001b[0m \u001b[0;32mNone\u001b[0m\u001b[0;34m\u001b[0m\u001b[0;34m\u001b[0m\u001b[0m\n\u001b[1;32m      5\u001b[0m \u001b[0muser_policy\u001b[0m \u001b[0;34m=\u001b[0m \u001b[0mRulePolicy\u001b[0m\u001b[0;34m(\u001b[0m\u001b[0mcharacter\u001b[0m\u001b[0;34m=\u001b[0m\u001b[0;34m'usr'\u001b[0m\u001b[0;34m)\u001b[0m\u001b[0;34m\u001b[0m\u001b[0;34m\u001b[0m\u001b[0m\n",
            "\u001b[0;32m~/workspace/samsung_dialogue_tutorial/ConvLab-2/convlab2/nlu/jointBERT/multiwoz/nlu.py\u001b[0m in \u001b[0;36m__init__\u001b[0;34m(self, mode, config_file, model_file)\u001b[0m\n\u001b[1;32m     49\u001b[0m         \u001b[0mprint\u001b[0m\u001b[0;34m(\u001b[0m\u001b[0;34m'Load from'\u001b[0m\u001b[0;34m,\u001b[0m \u001b[0mbest_model_path\u001b[0m\u001b[0;34m)\u001b[0m\u001b[0;34m\u001b[0m\u001b[0;34m\u001b[0m\u001b[0m\n\u001b[1;32m     50\u001b[0m         \u001b[0mmodel\u001b[0m \u001b[0;34m=\u001b[0m \u001b[0mJointBERT\u001b[0m\u001b[0;34m(\u001b[0m\u001b[0mconfig\u001b[0m\u001b[0;34m[\u001b[0m\u001b[0;34m'model'\u001b[0m\u001b[0;34m]\u001b[0m\u001b[0;34m,\u001b[0m \u001b[0mDEVICE\u001b[0m\u001b[0;34m,\u001b[0m \u001b[0mdataloader\u001b[0m\u001b[0;34m.\u001b[0m\u001b[0mtag_dim\u001b[0m\u001b[0;34m,\u001b[0m \u001b[0mdataloader\u001b[0m\u001b[0;34m.\u001b[0m\u001b[0mintent_dim\u001b[0m\u001b[0;34m)\u001b[0m\u001b[0;34m\u001b[0m\u001b[0;34m\u001b[0m\u001b[0m\n\u001b[0;32m---> 51\u001b[0;31m         \u001b[0mmodel\u001b[0m\u001b[0;34m.\u001b[0m\u001b[0mload_state_dict\u001b[0m\u001b[0;34m(\u001b[0m\u001b[0mtorch\u001b[0m\u001b[0;34m.\u001b[0m\u001b[0mload\u001b[0m\u001b[0;34m(\u001b[0m\u001b[0mos\u001b[0m\u001b[0;34m.\u001b[0m\u001b[0mpath\u001b[0m\u001b[0;34m.\u001b[0m\u001b[0mjoin\u001b[0m\u001b[0;34m(\u001b[0m\u001b[0moutput_dir\u001b[0m\u001b[0;34m,\u001b[0m \u001b[0;34m'pytorch_model.bin'\u001b[0m\u001b[0;34m)\u001b[0m\u001b[0;34m,\u001b[0m \u001b[0mDEVICE\u001b[0m\u001b[0;34m)\u001b[0m\u001b[0;34m)\u001b[0m\u001b[0;34m\u001b[0m\u001b[0;34m\u001b[0m\u001b[0m\n\u001b[0m\u001b[1;32m     52\u001b[0m         \u001b[0mmodel\u001b[0m\u001b[0;34m.\u001b[0m\u001b[0mto\u001b[0m\u001b[0;34m(\u001b[0m\u001b[0mDEVICE\u001b[0m\u001b[0;34m)\u001b[0m\u001b[0;34m\u001b[0m\u001b[0;34m\u001b[0m\u001b[0m\n\u001b[1;32m     53\u001b[0m         \u001b[0mmodel\u001b[0m\u001b[0;34m.\u001b[0m\u001b[0meval\u001b[0m\u001b[0;34m(\u001b[0m\u001b[0;34m)\u001b[0m\u001b[0;34m\u001b[0m\u001b[0;34m\u001b[0m\u001b[0m\n",
            "\u001b[0;32m~/anaconda3/envs/0813_dialogue_system/lib/python3.7/site-packages/torch/serialization.py\u001b[0m in \u001b[0;36mload\u001b[0;34m(f, map_location, pickle_module, **pickle_load_args)\u001b[0m\n\u001b[1;32m    384\u001b[0m         \u001b[0mf\u001b[0m \u001b[0;34m=\u001b[0m \u001b[0mf\u001b[0m\u001b[0;34m.\u001b[0m\u001b[0mopen\u001b[0m\u001b[0;34m(\u001b[0m\u001b[0;34m'rb'\u001b[0m\u001b[0;34m)\u001b[0m\u001b[0;34m\u001b[0m\u001b[0;34m\u001b[0m\u001b[0m\n\u001b[1;32m    385\u001b[0m     \u001b[0;32mtry\u001b[0m\u001b[0;34m:\u001b[0m\u001b[0;34m\u001b[0m\u001b[0;34m\u001b[0m\u001b[0m\n\u001b[0;32m--> 386\u001b[0;31m         \u001b[0;32mreturn\u001b[0m \u001b[0m_load\u001b[0m\u001b[0;34m(\u001b[0m\u001b[0mf\u001b[0m\u001b[0;34m,\u001b[0m \u001b[0mmap_location\u001b[0m\u001b[0;34m,\u001b[0m \u001b[0mpickle_module\u001b[0m\u001b[0;34m,\u001b[0m \u001b[0;34m**\u001b[0m\u001b[0mpickle_load_args\u001b[0m\u001b[0;34m)\u001b[0m\u001b[0;34m\u001b[0m\u001b[0;34m\u001b[0m\u001b[0m\n\u001b[0m\u001b[1;32m    387\u001b[0m     \u001b[0;32mfinally\u001b[0m\u001b[0;34m:\u001b[0m\u001b[0;34m\u001b[0m\u001b[0;34m\u001b[0m\u001b[0m\n\u001b[1;32m    388\u001b[0m         \u001b[0;32mif\u001b[0m \u001b[0mnew_fd\u001b[0m\u001b[0;34m:\u001b[0m\u001b[0;34m\u001b[0m\u001b[0;34m\u001b[0m\u001b[0m\n",
            "\u001b[0;32m~/anaconda3/envs/0813_dialogue_system/lib/python3.7/site-packages/torch/serialization.py\u001b[0m in \u001b[0;36m_load\u001b[0;34m(f, map_location, pickle_module, **pickle_load_args)\u001b[0m\n\u001b[1;32m    571\u001b[0m     \u001b[0munpickler\u001b[0m \u001b[0;34m=\u001b[0m \u001b[0mpickle_module\u001b[0m\u001b[0;34m.\u001b[0m\u001b[0mUnpickler\u001b[0m\u001b[0;34m(\u001b[0m\u001b[0mf\u001b[0m\u001b[0;34m,\u001b[0m \u001b[0;34m**\u001b[0m\u001b[0mpickle_load_args\u001b[0m\u001b[0;34m)\u001b[0m\u001b[0;34m\u001b[0m\u001b[0;34m\u001b[0m\u001b[0m\n\u001b[1;32m    572\u001b[0m     \u001b[0munpickler\u001b[0m\u001b[0;34m.\u001b[0m\u001b[0mpersistent_load\u001b[0m \u001b[0;34m=\u001b[0m \u001b[0mpersistent_load\u001b[0m\u001b[0;34m\u001b[0m\u001b[0;34m\u001b[0m\u001b[0m\n\u001b[0;32m--> 573\u001b[0;31m     \u001b[0mresult\u001b[0m \u001b[0;34m=\u001b[0m \u001b[0munpickler\u001b[0m\u001b[0;34m.\u001b[0m\u001b[0mload\u001b[0m\u001b[0;34m(\u001b[0m\u001b[0;34m)\u001b[0m\u001b[0;34m\u001b[0m\u001b[0;34m\u001b[0m\u001b[0m\n\u001b[0m\u001b[1;32m    574\u001b[0m \u001b[0;34m\u001b[0m\u001b[0m\n\u001b[1;32m    575\u001b[0m     \u001b[0mdeserialized_storage_keys\u001b[0m \u001b[0;34m=\u001b[0m \u001b[0mpickle_module\u001b[0m\u001b[0;34m.\u001b[0m\u001b[0mload\u001b[0m\u001b[0;34m(\u001b[0m\u001b[0mf\u001b[0m\u001b[0;34m,\u001b[0m \u001b[0;34m**\u001b[0m\u001b[0mpickle_load_args\u001b[0m\u001b[0;34m)\u001b[0m\u001b[0;34m\u001b[0m\u001b[0;34m\u001b[0m\u001b[0m\n",
            "\u001b[0;32m~/anaconda3/envs/0813_dialogue_system/lib/python3.7/site-packages/torch/serialization.py\u001b[0m in \u001b[0;36mpersistent_load\u001b[0;34m(saved_id)\u001b[0m\n\u001b[1;32m    534\u001b[0m                 \u001b[0mobj\u001b[0m \u001b[0;34m=\u001b[0m \u001b[0mdata_type\u001b[0m\u001b[0;34m(\u001b[0m\u001b[0msize\u001b[0m\u001b[0;34m)\u001b[0m\u001b[0;34m\u001b[0m\u001b[0;34m\u001b[0m\u001b[0m\n\u001b[1;32m    535\u001b[0m                 \u001b[0mobj\u001b[0m\u001b[0;34m.\u001b[0m\u001b[0m_torch_load_uninitialized\u001b[0m \u001b[0;34m=\u001b[0m \u001b[0;32mTrue\u001b[0m\u001b[0;34m\u001b[0m\u001b[0;34m\u001b[0m\u001b[0m\n\u001b[0;32m--> 536\u001b[0;31m                 \u001b[0mdeserialized_objects\u001b[0m\u001b[0;34m[\u001b[0m\u001b[0mroot_key\u001b[0m\u001b[0;34m]\u001b[0m \u001b[0;34m=\u001b[0m \u001b[0mrestore_location\u001b[0m\u001b[0;34m(\u001b[0m\u001b[0mobj\u001b[0m\u001b[0;34m,\u001b[0m \u001b[0mlocation\u001b[0m\u001b[0;34m)\u001b[0m\u001b[0;34m\u001b[0m\u001b[0;34m\u001b[0m\u001b[0m\n\u001b[0m\u001b[1;32m    537\u001b[0m             \u001b[0mstorage\u001b[0m \u001b[0;34m=\u001b[0m \u001b[0mdeserialized_objects\u001b[0m\u001b[0;34m[\u001b[0m\u001b[0mroot_key\u001b[0m\u001b[0;34m]\u001b[0m\u001b[0;34m\u001b[0m\u001b[0;34m\u001b[0m\u001b[0m\n\u001b[1;32m    538\u001b[0m             \u001b[0;32mif\u001b[0m \u001b[0mview_metadata\u001b[0m \u001b[0;32mis\u001b[0m \u001b[0;32mnot\u001b[0m \u001b[0;32mNone\u001b[0m\u001b[0;34m:\u001b[0m\u001b[0;34m\u001b[0m\u001b[0;34m\u001b[0m\u001b[0m\n",
            "\u001b[0;32m~/anaconda3/envs/0813_dialogue_system/lib/python3.7/site-packages/torch/serialization.py\u001b[0m in \u001b[0;36mrestore_location\u001b[0;34m(storage, location)\u001b[0m\n\u001b[1;32m    401\u001b[0m     \u001b[0;32melif\u001b[0m \u001b[0misinstance\u001b[0m\u001b[0;34m(\u001b[0m\u001b[0mmap_location\u001b[0m\u001b[0;34m,\u001b[0m \u001b[0m_string_classes\u001b[0m\u001b[0;34m)\u001b[0m\u001b[0;34m:\u001b[0m\u001b[0;34m\u001b[0m\u001b[0;34m\u001b[0m\u001b[0m\n\u001b[1;32m    402\u001b[0m         \u001b[0;32mdef\u001b[0m \u001b[0mrestore_location\u001b[0m\u001b[0;34m(\u001b[0m\u001b[0mstorage\u001b[0m\u001b[0;34m,\u001b[0m \u001b[0mlocation\u001b[0m\u001b[0;34m)\u001b[0m\u001b[0;34m:\u001b[0m\u001b[0;34m\u001b[0m\u001b[0;34m\u001b[0m\u001b[0m\n\u001b[0;32m--> 403\u001b[0;31m             \u001b[0;32mreturn\u001b[0m \u001b[0mdefault_restore_location\u001b[0m\u001b[0;34m(\u001b[0m\u001b[0mstorage\u001b[0m\u001b[0;34m,\u001b[0m \u001b[0mmap_location\u001b[0m\u001b[0;34m)\u001b[0m\u001b[0;34m\u001b[0m\u001b[0;34m\u001b[0m\u001b[0m\n\u001b[0m\u001b[1;32m    404\u001b[0m     \u001b[0;32melif\u001b[0m \u001b[0misinstance\u001b[0m\u001b[0;34m(\u001b[0m\u001b[0mmap_location\u001b[0m\u001b[0;34m,\u001b[0m \u001b[0mtorch\u001b[0m\u001b[0;34m.\u001b[0m\u001b[0mdevice\u001b[0m\u001b[0;34m)\u001b[0m\u001b[0;34m:\u001b[0m\u001b[0;34m\u001b[0m\u001b[0;34m\u001b[0m\u001b[0m\n\u001b[1;32m    405\u001b[0m         \u001b[0;32mdef\u001b[0m \u001b[0mrestore_location\u001b[0m\u001b[0;34m(\u001b[0m\u001b[0mstorage\u001b[0m\u001b[0;34m,\u001b[0m \u001b[0mlocation\u001b[0m\u001b[0;34m)\u001b[0m\u001b[0;34m:\u001b[0m\u001b[0;34m\u001b[0m\u001b[0;34m\u001b[0m\u001b[0m\n",
            "\u001b[0;32m~/anaconda3/envs/0813_dialogue_system/lib/python3.7/site-packages/torch/serialization.py\u001b[0m in \u001b[0;36mdefault_restore_location\u001b[0;34m(storage, location)\u001b[0m\n\u001b[1;32m    117\u001b[0m \u001b[0;32mdef\u001b[0m \u001b[0mdefault_restore_location\u001b[0m\u001b[0;34m(\u001b[0m\u001b[0mstorage\u001b[0m\u001b[0;34m,\u001b[0m \u001b[0mlocation\u001b[0m\u001b[0;34m)\u001b[0m\u001b[0;34m:\u001b[0m\u001b[0;34m\u001b[0m\u001b[0;34m\u001b[0m\u001b[0m\n\u001b[1;32m    118\u001b[0m     \u001b[0;32mfor\u001b[0m \u001b[0m_\u001b[0m\u001b[0;34m,\u001b[0m \u001b[0m_\u001b[0m\u001b[0;34m,\u001b[0m \u001b[0mfn\u001b[0m \u001b[0;32min\u001b[0m \u001b[0m_package_registry\u001b[0m\u001b[0;34m:\u001b[0m\u001b[0;34m\u001b[0m\u001b[0;34m\u001b[0m\u001b[0m\n\u001b[0;32m--> 119\u001b[0;31m         \u001b[0mresult\u001b[0m \u001b[0;34m=\u001b[0m \u001b[0mfn\u001b[0m\u001b[0;34m(\u001b[0m\u001b[0mstorage\u001b[0m\u001b[0;34m,\u001b[0m \u001b[0mlocation\u001b[0m\u001b[0;34m)\u001b[0m\u001b[0;34m\u001b[0m\u001b[0;34m\u001b[0m\u001b[0m\n\u001b[0m\u001b[1;32m    120\u001b[0m         \u001b[0;32mif\u001b[0m \u001b[0mresult\u001b[0m \u001b[0;32mis\u001b[0m \u001b[0;32mnot\u001b[0m \u001b[0;32mNone\u001b[0m\u001b[0;34m:\u001b[0m\u001b[0;34m\u001b[0m\u001b[0;34m\u001b[0m\u001b[0m\n\u001b[1;32m    121\u001b[0m             \u001b[0;32mreturn\u001b[0m \u001b[0mresult\u001b[0m\u001b[0;34m\u001b[0m\u001b[0;34m\u001b[0m\u001b[0m\n",
            "\u001b[0;32m~/anaconda3/envs/0813_dialogue_system/lib/python3.7/site-packages/torch/serialization.py\u001b[0m in \u001b[0;36m_cuda_deserialize\u001b[0;34m(obj, location)\u001b[0m\n\u001b[1;32m     97\u001b[0m             \u001b[0mstorage_type\u001b[0m \u001b[0;34m=\u001b[0m \u001b[0mgetattr\u001b[0m\u001b[0;34m(\u001b[0m\u001b[0mtorch\u001b[0m\u001b[0;34m.\u001b[0m\u001b[0mcuda\u001b[0m\u001b[0;34m,\u001b[0m \u001b[0mtype\u001b[0m\u001b[0;34m(\u001b[0m\u001b[0mobj\u001b[0m\u001b[0;34m)\u001b[0m\u001b[0;34m.\u001b[0m\u001b[0m__name__\u001b[0m\u001b[0;34m)\u001b[0m\u001b[0;34m\u001b[0m\u001b[0;34m\u001b[0m\u001b[0m\n\u001b[1;32m     98\u001b[0m             \u001b[0;32mwith\u001b[0m \u001b[0mtorch\u001b[0m\u001b[0;34m.\u001b[0m\u001b[0mcuda\u001b[0m\u001b[0;34m.\u001b[0m\u001b[0mdevice\u001b[0m\u001b[0;34m(\u001b[0m\u001b[0mdevice\u001b[0m\u001b[0;34m)\u001b[0m\u001b[0;34m:\u001b[0m\u001b[0;34m\u001b[0m\u001b[0;34m\u001b[0m\u001b[0m\n\u001b[0;32m---> 99\u001b[0;31m                 \u001b[0;32mreturn\u001b[0m \u001b[0mstorage_type\u001b[0m\u001b[0;34m(\u001b[0m\u001b[0mobj\u001b[0m\u001b[0;34m.\u001b[0m\u001b[0msize\u001b[0m\u001b[0;34m(\u001b[0m\u001b[0;34m)\u001b[0m\u001b[0;34m)\u001b[0m\u001b[0;34m\u001b[0m\u001b[0;34m\u001b[0m\u001b[0m\n\u001b[0m\u001b[1;32m    100\u001b[0m         \u001b[0;32melse\u001b[0m\u001b[0;34m:\u001b[0m\u001b[0;34m\u001b[0m\u001b[0;34m\u001b[0m\u001b[0m\n\u001b[1;32m    101\u001b[0m             \u001b[0;32mreturn\u001b[0m \u001b[0mobj\u001b[0m\u001b[0;34m.\u001b[0m\u001b[0mcuda\u001b[0m\u001b[0;34m(\u001b[0m\u001b[0mdevice\u001b[0m\u001b[0;34m)\u001b[0m\u001b[0;34m\u001b[0m\u001b[0;34m\u001b[0m\u001b[0m\n",
            "\u001b[0;31mRuntimeError\u001b[0m: CUDA error: out of memory"
          ]
        }
      ]
    },
    {
      "cell_type": "markdown",
      "metadata": {},
      "source": [
        "아래 코드에는 analyzer 가 정의 되어 있습니다."
      ]
    },
    {
      "cell_type": "code",
      "metadata": {
        "id": "Hu2q3lQiSMDy",
        "colab_type": "code",
        "colab": {},
        "tags": []
      },
      "source": [
        "from convlab2.util.analysis_tool.analyzer import Analyzer\n",
        "\n",
        "# if sys_nlu!=None, set use_nlu=True to collect more information\n",
        "analyzer = Analyzer(user_agent=user_agent, dataset='multiwoz')\n",
        "\n",
        "set_seed(20200131)\n",
        "analyzer.comprehensive_analyze(sys_agent=sys_agent, model_name='sys_agent', total_dialog=20)"
      ],
      "execution_count": null,
      "outputs": []
    },
    {
      "cell_type": "markdown",
      "metadata": {},
      "source": [
        "## \\[실습문제] Success Rate를 기준으로 상위 3가지 모델을 찾고, 아래 표를 완성하세요.\n",
        "\n",
        "\\[힌트] 여러개의 system agent를 만들고 아래의 코드를 활용해 한번에 돌리실 수 있습니다.\n",
        "\n",
        "\\[주의] 실습과제 제출시 실행기록을 반드시 남겨서 제출해야 합니다.\n",
        "\n",
        "\n",
        "Rank      | NLU       | DST       | Policy    | NLG          | Success rate | Book rate | Inform P | Inform R | Inform F1 | Turn(succ/all) |\n",
        "--------- | --------- | --------- | --------- | :----------: | :----------: | --------- | -------- | --------- | -------- | -------------- |\n",
        "1         | -         | -         | -         | -            | -            | -         | -        | -         | -        | -              |\n",
        "2         | -         | -         | -         | -            | -            | -         | -        | -         | -        | -              |\n",
        "3         | -         | -         | -         | -            | -            | -         | -        | -         | -        | -              |"
      ]
    },
    {
      "cell_type": "code",
      "metadata": {
        "id": "GKe_DNJUlWzh",
        "colab_type": "code",
        "colab": {},
        "tags": []
      },
      "source": [
        "set_seed(20200805)\n",
        "\n",
        "# define your own system agent2\n",
        "# sys_agent2 = PipelineAgent(...)\n",
        "\n",
        "# define your own system agent3\n",
        "# sys_agent3 = PipelineAgent(...)\n",
        "\n",
        "# [Hint] You can append sys_agent model as much as you want!!\n",
        "analyzer.compare_models(agent_list=[sys_agent, sys_agent, sys_agent], model_name=['sys_agent1', 'sys_agent2', 'sys_agent3'], total_dialog=20)"
      ],
      "execution_count": 11,
      "outputs": [
        {
          "output_type": "error",
          "ename": "NameError",
          "evalue": "name 'analyzer' is not defined",
          "traceback": [
            "\u001b[0;31m---------------------------------------------------------------------------\u001b[0m",
            "\u001b[0;31mNameError\u001b[0m                                 Traceback (most recent call last)",
            "\u001b[0;32m<ipython-input-11-4e4a1dd95b6a>\u001b[0m in \u001b[0;36m<module>\u001b[0;34m\u001b[0m\n\u001b[1;32m      9\u001b[0m \u001b[0;34m\u001b[0m\u001b[0m\n\u001b[1;32m     10\u001b[0m \u001b[0;31m# [Hint] You can append sys_agent model as much as you want!!\u001b[0m\u001b[0;34m\u001b[0m\u001b[0;34m\u001b[0m\u001b[0;34m\u001b[0m\u001b[0m\n\u001b[0;32m---> 11\u001b[0;31m \u001b[0manalyzer\u001b[0m\u001b[0;34m.\u001b[0m\u001b[0mcompare_models\u001b[0m\u001b[0;34m(\u001b[0m\u001b[0magent_list\u001b[0m\u001b[0;34m=\u001b[0m\u001b[0;34m[\u001b[0m\u001b[0msys_agent\u001b[0m\u001b[0;34m,\u001b[0m \u001b[0msys_agent\u001b[0m\u001b[0;34m,\u001b[0m \u001b[0msys_agent\u001b[0m\u001b[0;34m]\u001b[0m\u001b[0;34m,\u001b[0m \u001b[0mmodel_name\u001b[0m\u001b[0;34m=\u001b[0m\u001b[0;34m[\u001b[0m\u001b[0;34m'sys_agent1'\u001b[0m\u001b[0;34m,\u001b[0m \u001b[0;34m'sys_agent2'\u001b[0m\u001b[0;34m,\u001b[0m \u001b[0;34m'sys_agent3'\u001b[0m\u001b[0;34m]\u001b[0m\u001b[0;34m,\u001b[0m \u001b[0mtotal_dialog\u001b[0m\u001b[0;34m=\u001b[0m\u001b[0;36m20\u001b[0m\u001b[0;34m)\u001b[0m\u001b[0;34m\u001b[0m\u001b[0;34m\u001b[0m\u001b[0m\n\u001b[0m",
            "\u001b[0;31mNameError\u001b[0m: name 'analyzer' is not defined"
          ]
        }
      ]
    },
    {
      "cell_type": "markdown",
      "metadata": {},
      "source": []
    }
  ]
}